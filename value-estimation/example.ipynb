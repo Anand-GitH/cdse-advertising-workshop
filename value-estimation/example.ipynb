{
 "cells": [
  {
   "cell_type": "code",
   "execution_count": 2,
   "metadata": {},
   "outputs": [],
   "source": [
    "from __future__ import print_function\n",
    "from vowpalwabbit import pyvw"
   ]
  },
  {
   "cell_type": "code",
   "execution_count": 42,
   "metadata": {},
   "outputs": [],
   "source": [
    "import numpy as np\n",
    "import numpy.random as rnd\n",
    "import matplotlib.pyplot as plt\n",
    "%matplotlib inline"
   ]
  },
  {
   "cell_type": "code",
   "execution_count": 43,
   "metadata": {},
   "outputs": [],
   "source": [
    "# Generate the model\n",
    "N = 1000\n",
    "F = 10\n",
    "W = rnd.randn(F, 1)\n",
    "b = -3 + rnd.randn()\n"
   ]
  },
  {
   "cell_type": "code",
   "execution_count": 112,
   "metadata": {},
   "outputs": [],
   "source": [
    "# Generate sample input\n",
    "X = rnd.randn(N, F)\n",
    "y = np.dot(X, W) + b"
   ]
  },
  {
   "cell_type": "code",
   "execution_count": 117,
   "metadata": {},
   "outputs": [
    {
     "data": {
      "text/plain": [
       "(array([  3.,  29.,  67., 148., 213., 210., 179.,  99.,  45.,   7.]),\n",
       " array([-12.42114968, -10.80759958,  -9.19404948,  -7.58049938,\n",
       "         -5.96694927,  -4.35339917,  -2.73984907,  -1.12629896,\n",
       "          0.48725114,   2.10080124,   3.71435134]),\n",
       " <a list of 10 Patch objects>)"
      ]
     },
     "execution_count": 117,
     "metadata": {},
     "output_type": "execute_result"
    },
    {
     "data": {
      "image/png": "[encoded data removed]",
      "text/plain": [
       "<Figure size 432x288 with 1 Axes>"
      ]
     },
     "metadata": {},
     "output_type": "display_data"
    }
   ],
   "source": [
    "plt.hist(y)\n",
    "plt.title('histogram of responses')"
   ]
  },
  {
   "cell_type": "code",
   "execution_count": 113,
   "metadata": {},
   "outputs": [
    {
     "data": {
      "text/plain": [
       "['-5.69215512759 | 0:0.908421394782 1:-1.93307437248 2:-1.04477880726 3:-0.92118705495 4:-0.712568616243 5:-0.0899610577083 6:-0.439611666365 7:-0.241854614939 8:-0.115180184774 9:-1.90492813939',\n",
       " '-6.85625554568 | 0:0.187406416945 1:0.487893701608 2:-2.5629397207 3:-0.443167236017 4:0.2016670517 5:-1.40134881528 6:0.714837541803 7:0.628386042758 8:-1.60735436167 9:-0.360543605055']"
      ]
     },
     "execution_count": 113,
     "metadata": {},
     "output_type": "execute_result"
    }
   ],
   "source": [
    "# Convert sample into VW input\n",
    "def generate_vw(X, y):\n",
    "    samples = []\n",
    "    for i in xrange(X.shape[0]):\n",
    "        example = \"{} |\".format(y[i, 0])\n",
    "        for f in xrange(X.shape[1]):\n",
    "            example += \" {}:{}\".format(f, X[i,f])\n",
    "        samples.append(example)\n",
    "    return samples\n",
    "generate_vw(X[0:2,:],y[0:2])"
   ]
  },
  {
   "cell_type": "code",
   "execution_count": 114,
   "metadata": {},
   "outputs": [
    {
     "data": {
      "text/plain": [
       "-1.1506720781326294"
      ]
     },
     "execution_count": 114,
     "metadata": {},
     "output_type": "execute_result"
    }
   ],
   "source": [
    "# Example usage\n",
    "vw = pyvw.vw()\n",
    "ex = vw.example('-2.12194045634 | 0:-0.0774179384037 1:-1.0758415077 2:-1.02732013379 3:-0.998411818093 4:-0.636798702701 5:-2.02201140179 6:-0.646318191321 7:1.06557030959 8:0.257035057903 9:-0.260060991714')\n",
    "ex.learn()\n",
    "vw.predict(ex)"
   ]
  },
  {
   "cell_type": "code",
   "execution_count": 115,
   "metadata": {},
   "outputs": [],
   "source": [
    "# Run stochastic gradient descent\n",
    "ITER = 10\n",
    "vw = pyvw.vw('--loss_function=squared -l 0.1') \n",
    "samples = generate_vw(X,y)\n",
    "iter_loss = []\n",
    "predictions = []\n",
    "for iteration in xrange(ITER):\n",
    "    predictions = []\n",
    "    loss  = 0\n",
    "    for i in xrange(len(samples)):\n",
    "        ex = vw.example(samples[i])\n",
    "        ex.learn()\n",
    "        predictions.append(vw.predict(ex))\n",
    "        loss += np.square(y[i, 0]-vw.predict(ex))\n",
    "    iter_loss.append(loss/N)"
   ]
  },
  {
   "cell_type": "markdown",
   "metadata": {},
   "source": [
    "As promised there is documentation; for instance:"
   ]
  },
  {
   "cell_type": "code",
   "execution_count": 94,
   "metadata": {},
   "outputs": [
    {
     "data": {
      "text/plain": [
       "[<matplotlib.lines.Line2D at 0x116c3d450>]"
      ]
     },
     "execution_count": 94,
     "metadata": {},
     "output_type": "execute_result"
    },
    {
     "data": {
      "image/png": "[encoded data removed]",
      "text/plain": [
       "<Figure size 432x288 with 1 Axes>"
      ]
     },
     "metadata": {},
     "output_type": "display_data"
    }
   ],
   "source": [
    "plt.plot(iter_loss)\n"
   ]
  },
  {
   "cell_type": "markdown",
   "metadata": {},
   "source": [
    "Let's run that learn function and get a prediction:"
   ]
  },
  {
   "cell_type": "code",
   "execution_count": 118,
   "metadata": {},
   "outputs": [
    {
     "data": {
      "text/plain": [
       "Text(0.5,1,'Predictions vs. Actual')"
      ]
     },
     "execution_count": 118,
     "metadata": {},
     "output_type": "execute_result"
    },
    {
     "data": {
      "image/png": "[encoded data removed]",
      "text/plain": [
       "<Figure size 432x288 with 1 Axes>"
      ]
     },
     "metadata": {},
     "output_type": "display_data"
    }
   ],
   "source": [
    "plt.scatter(y[:,0], predictions)\n",
    "plt.title('Predictions vs. Actual')"
   ]
  },
  {
   "cell_type": "code",
   "execution_count": 116,
   "metadata": {},
   "outputs": [
    {
     "data": {
      "text/plain": [
       "Text(0.5,1,'Predicted vs. Actual weight')"
      ]
     },
     "execution_count": 116,
     "metadata": {},
     "output_type": "execute_result"
    },
    {
     "data": {
      "image/png": "[encoded data removed]",
      "text/plain": [
       "<Figure size 432x288 with 1 Axes>"
      ]
     },
     "metadata": {},
     "output_type": "display_data"
    }
   ],
   "source": [
    "What = [vw.get_weight(i) for i in xrange(F)]\n",
    "plt.scatter(W[:, 0], What)\n",
    "plt.title('Predicted vs. Actual weight')"
   ]
  }
 ],
 "metadata": {
  "kernelspec": {
   "display_name": "Python 2",
   "language": "python",
   "name": "python2"
  },
  "language_info": {
   "codemirror_mode": {
    "name": "ipython",
    "version": 2
   },
   "file_extension": ".py",
   "mimetype": "text/x-python",
   "name": "python",
   "nbconvert_exporter": "python",
   "pygments_lexer": "ipython2",
   "version": "2.7.10"
  }
 },
 "nbformat": 4,
 "nbformat_minor": 1
}
